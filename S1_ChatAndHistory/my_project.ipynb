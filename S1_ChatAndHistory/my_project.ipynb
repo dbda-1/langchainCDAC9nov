{
 "cells": [
  {
   "cell_type": "code",
   "execution_count": 16,
   "metadata": {},
   "outputs": [],
   "source": [
    "import random as r\n",
    "\n",
    "def actor_picker(l1):\n",
    "    actor=r.choice(l1)\n",
    "    return actor\n",
    "\n",
    "def Theme_picker(l2):\n",
    "    Theme=r.choice(l2)\n",
    "    return Theme\n",
    "\n",
    "def location_picker(l3):\n",
    "    location=r.choice(l3)\n",
    "    return location\n",
    "\n",
    "\n"
   ]
  },
  {
   "cell_type": "code",
   "execution_count": 5,
   "metadata": {},
   "outputs": [
    {
     "name": "stdout",
     "output_type": "stream",
     "text": [
      "content=\"Once upon a time, in a dense and lush forest, there lived a majestic Bengal tiger named Raja. He was known for his striking orange coat with bold black stripes and his powerful, graceful movements. Raja was the king of his domain, ruling over the other animals with strength and wisdom.\\n\\nRaja had a proud and solitary nature, often spending his days patrolling his territory and ensuring the safety of the creatures under his watch. He was a fierce hunter, but only took what he needed to survive, respecting the balance of nature. The other animals both feared and respected him, knowing that he was a force to be reckoned with.\\n\\nOne day, Raja's peaceful reign was disrupted by the arrival of a group of human poachers who had ventured into the forest in search of valuable animal skins and trophies. They had heard tales of the mighty tiger and were determined to claim his pelt as their ultimate prize. Unaware of their presence, Raja continued his daily routine, unaware of the danger that lurked in the shadows.\\n\\nThe poachers tracked Raja for several days, carefully planning their attack. They knew that taking down such a formidable creature would not be an easy task. Finally, they chose a secluded spot by the river, where Raja often came to drink. They set up their traps and lay in wait, their eyes gleaming with greed and anticipation.\\n\\nAs Raja approached the river's edge, he sensed something amiss. His keen senses picked up on the faint scent of the humans, and he paused, his golden eyes narrowing in suspicion. But before he could react, the poachers sprang their trap, surrounding him with nets and ropes. Raja roared in anger and surprise, his mighty voice echoing through the forest.\\n\\nA fierce struggle ensued. Raja fought with all his might, his claws and teeth tearing at the nets that entangled him. But the poachers were many, and they eventually managed to subdue the mighty tiger, binding him tightly. They laughed and congratulated each other, believing their victory was assured.\\n\\nHowever, they had underestimated the determination and strength of Raja. With a mighty roar, he broke free from his bonds, his eyes flashing with fury. The poachers scrambled in panic, but it was too late. Raja leaped upon them, his powerful jaws clamping down on their leader's throat. The others fled in terror, leaving their fallen comrade behind.\\n\\nInjured but victorious, Raja returned to his forest kingdom. The animals gathered around him, their eyes shining with admiration and gratitude. From that day forward, Raja was known as the Tiger King, a symbol of strength, courage, and resilience. His legend lived on, inspiring fear and respect in the hearts of all who heard it, ensuring that the forest and its creatures remained safe from harm.\" additional_kwargs={'documents': None, 'citations': None, 'search_results': None, 'search_queries': None, 'is_search_required': None, 'generation_id': '574290a3-1b87-4b94-89a9-051a04d4d952', 'token_count': {'input_tokens': 209.0, 'output_tokens': 569.0}} response_metadata={'documents': None, 'citations': None, 'search_results': None, 'search_queries': None, 'is_search_required': None, 'generation_id': '574290a3-1b87-4b94-89a9-051a04d4d952', 'token_count': {'input_tokens': 209.0, 'output_tokens': 569.0}} id='run-d216908a-1642-4c47-a575-0d335963c5b0-0' usage_metadata={'input_tokens': 209, 'output_tokens': 569, 'total_tokens': 778}\n",
      "content='Here\\'s a story about a tiger:\\n\\n---\\n\\nThe Last Hope of the Jungle\\n\\nIn the heart of the dense jungle, a majestic tiger named Raja ruled over the land with his regal presence. His golden fur glistened in the sunlight, and his piercing green eyes seemed to see right through to the soul. For as long as anyone could remember, Raja had been the undisputed king of the jungle, respected and feared by all the other animals.\\n\\nBut as the years went by, the jungle began to change. The once-lush greenery started to wither away, and the rivers began to dry up. The animals that lived in the jungle grew weak and sickly, and Raja knew that something was terribly wrong.\\n\\nOne day, a wise old owl named Hoot came to Raja with a dire warning. \"The humans,\" Hoot said, \"they are destroying our home. They are cutting down the trees, polluting the rivers, and killing our kin. If we don\\'t do something, our jungle will be gone forever.\"\\n\\nRaja knew that he had to act fast. He called upon the bravest and strongest warriors from across the jungle to join him on a quest to save their home. There was Kala, the sleek black panther, who could climb trees faster than anyone else. There was Jaya, the gentle giant of an elephant, who could crush rocks with his massive feet. And there was Bhanu, the cunning monkey, who could swing from vine to vine with ease.\\n\\nTogether, the group set out on a journey to the human village, where they planned to confront the humans and demand that they stop their destructive ways. But as they approached the village, they were met with a surprise: a group of humans, led by a young girl named Sophia, who was fighting to protect the jungle just like they were.\\n\\nSophia had grown up watching the jungle from her window, and she had always felt a deep connection to it. She had spent years studying the animals and learning about their habitats, and she knew that the jungle was in grave danger. When she heard about Raja\\'s quest, she knew that she had to join forces with him.\\n\\nTogether, the tigers, the humans, and the other animals formed an unlikely alliance. They worked tirelessly to restore the jungle to its former glory, planting trees, cleaning the rivers, and protecting the animals. And as they worked, they discovered that they had more in common than they thought.\\n\\nRaja and Sophia became close friends, and the tiger began to see the humans in a new light. He realized that they weren\\'t all the same, and that some humans truly cared about the jungle and its inhabitants. And Sophia learned that the tigers and the other animals weren\\'t just fierce predators, but also noble and honorable creatures.\\n\\nIn the end, the jungle was saved, thanks to the bravery and determination of Raja, Sophia, and their friends. The animals and the humans lived in harmony, and the jungle flourished once again. And Raja, the last hope of the jungle, knew that as long as there were creatures like Sophia standing up for what was right, the jungle would always have a bright future.\\n\\n---\\n\\nI hope you enjoyed the story!' additional_kwargs={} response_metadata={'token_usage': {'completion_tokens': 661, 'prompt_tokens': 28, 'total_tokens': 689, 'completion_time': 0.550833333, 'prompt_time': 0.005077217, 'queue_time': 0.037686563, 'total_time': 0.55591055}, 'model_name': 'llama3-8b-8192', 'system_fingerprint': 'fp_6a6771ae9c', 'finish_reason': 'stop', 'logprobs': None} id='run-80a8fd36-2e23-49e4-89d8-3fd9d40c4868-0' usage_metadata={'input_tokens': 28, 'output_tokens': 661, 'total_tokens': 689}\n"
     ]
    }
   ],
   "source": [
    "import os\n",
    "import configparser\n",
    "\n",
    "from langchain_groq import ChatGroq\n",
    "from langchain_cohere import ChatCohere\n",
    "\n",
    "from langchain_core.messages import HumanMessage, SystemMessage\n",
    "\n",
    "config = configparser.ConfigParser()\n",
    "config.read('/workspaces/langchainCDAC9nov/config.ini')\n",
    "groq = config['groq']\n",
    "cohere = config['cohere']\n",
    "\n",
    "os.environ['GROQ_API_KEY'] = groq.get('GROQ_API_KEY')\n",
    "os.environ['COHERE_API_KEY'] = cohere.get('COHERE_API_KEY')\n",
    "\n",
    "messages = [\n",
    "    SystemMessage(content='You are a Story Creator'),\n",
    "    HumanMessage(content='please create a story related to tiger?')\n",
    "]\n",
    "\n",
    "## code for cohere.\n",
    "model = ChatCohere(model=\"command-r-plus\")\n",
    "print(model.invoke(messages))\n",
    "\n",
    "## Code for Groq\n",
    "model = ChatGroq(model=\"llama3-8b-8192\")\n",
    "print(model.invoke(messages))"
   ]
  },
  {
   "cell_type": "code",
   "execution_count": null,
   "metadata": {},
   "outputs": [
    {
     "name": "stdout",
     "output_type": "stream",
     "text": [
      "Here's a brief story:\n",
      "\n",
      "Title: The Silent Night in Dubai\n",
      "\n",
      "Amir Khan, a renowned Bollywood star, stepped out of his luxurious villa in Dubai's Palm Jumeirah, the city's iconic man-made island. The night air was crisp, with a hint of salt from the Arabian Gulf. As he walked towards the infinity pool, the sound of the waves gently lapping against the shore created a soothing melody.\n",
      "\n",
      "Amir had been in Dubai for a week, filming a commercial for a luxury watch brand. Despite the chaos of the shoot, he had found solace in the city's calm atmosphere. As he gazed up at the star-studded sky, he felt a sense of peace wash over him.\n",
      "\n",
      "Suddenly, his phone buzzed with a text from his lead actress, Deepika Padukone. \"Hey, your scene is a wrap! Let's celebrate with a night out in the Marina.\" Amir smiled, feeling grateful for the opportunity to unwind with his co-star.\n",
      "\n",
      "As he made his way to the Marina, the bustling waterfront came alive with twinkling lights and the hum of life. Amidst the vibrant energy, Amir found himself lost in thought, reflecting on the journey that had brought him here – from small-town India to the global stage.\n",
      "\n",
      "The night air was filled with the sweet scent of jasmine, and Amir felt as though he was floating on a cloud, surrounded by the beauty of Dubai. In this silent night, he discovered a sense of clarity and purpose, knowing that this moment of peace was what he needed to stay grounded amidst the chaos of his superstar life.\n"
     ]
    }
   ],
   "source": [
    "\n",
    "from langchain_core.output_parsers import StrOutputParser\n",
    "from langchain_core.prompts import ChatPromptTemplate \n",
    "\n",
    "parser = StrOutputParser()\n",
    "l1=[\"akshay Kumar\",\"amir khan\",\"Allu Arjun\",\"Sai pallavi\",\"Mahesh babu\"]\n",
    "l2=[\"Dramatic\",\"Horror\",\"Romantic\",\"silent\",\"Comedy\"]\n",
    "l3=[\"Mumbai\",\"Pune\",\"Delhi\",\"Dubai\",\"karnataka\"]\n",
    "actor= actor_picker(l1) \n",
    "theme=Theme_picker(l2)\n",
    "location=location_picker(l3)\n",
    "writer=[actor,theme,location]\n",
    "\n",
    "system_template = \"create a story by using following actor, theme and location. Please provide a {responseType} response.\" \n",
    "\n",
    "prompt_template = ChatPromptTemplate.from_messages(\n",
    "    [\n",
    "        (\"system\", system_template),\n",
    "        (\"user\", writer)\n",
    "    ]\n",
    ")\n",
    "\n",
    "model = ChatGroq(model=\"llama3-8b-8192\")\n",
    "chain = prompt_template | model | parser\n",
    "story=chain.invoke({\"responseType\":\"brief\"})\n",
    "print(story)"
   ]
  },
  {
   "cell_type": "code",
   "execution_count": 18,
   "metadata": {},
   "outputs": [
    {
     "data": {
      "text/plain": [
       "'What a lovely story! You\\'ve woven a beautiful narrative that captures the essence of Dubai\\'s vibrant yet peaceful atmosphere. Here are some things that stood out to me:\\n\\n1. **Immersive setting**: You\\'ve done a great job of transporting the reader to Dubai\\'s Palm Jumeirah and the Marina. The sensory details you\\'ve included, such as the sound of the waves, the scent of jasmine, and the twinkling lights, really help to bring the setting to life.\\n2. **Relatable protagonist**: Amir Khan is a relatable protagonist, and his reflections on his journey from small-town India to stardom are poignant and authentic. His desire to stay grounded amidst the chaos of his life is something that many people can identify with.\\n3. **Peaceful atmosphere**: The story exudes a sense of peace and tranquility, which is a nice change of pace from the hustle and bustle of the city. The author\\'s use of words like \"soothing,\" \"calm,\" and \"peaceful\" creates a sense of serenity that is hard to resist.\\n4. **Subtle themes**: You\\'ve woven in some subtle themes, such as the importance of staying grounded and finding inner peace, which add depth to the story. These themes are relevant to readers and make the story more memorable.\\n5. **Cohesive narrative**: The story flows smoothly, and the transitions between scenes are seamless. You\\'ve done a great job of balancing the different elements of the story, from Amir\\'s personal reflections to the vibrant atmosphere of the city.\\n\\nIf I were to offer any feedback, it would be to consider adding more sensory details to help the reader feel like they\\'re experiencing the story alongside Amir. For example, you could describe the taste of the food he eats or the feel of the sand between his toes. Additionally, you could explore Amir\\'s thoughts and emotions more deeply to make his character feel even more relatable and nuanced.\\n\\nOverall, though, this is a beautiful story that effectively captures the essence of Dubai\\'s unique blend of luxury and tranquility.'"
      ]
     },
     "execution_count": 18,
     "metadata": {},
     "output_type": "execute_result"
    }
   ],
   "source": [
    "from langchain_core.runnables import RunnableSequence\n",
    "chain = RunnableSequence(model, parser)\n",
    "chain.invoke([HumanMessage(content=story)])"
   ]
  },
  {
   "cell_type": "code",
   "execution_count": null,
   "metadata": {},
   "outputs": [
    {
     "name": "stdout",
     "output_type": "stream",
     "text": [
      "What a lovely and serene story! You've done a great job of transporting the reader to the luxurious and vibrant city of Dubai, and Amir's journey from his villa to the Marina is beautifully described. Here are some specific things that stand out to me:\n",
      "\n",
      "* The sensory details you've included are wonderful. The \"crisp, with a hint of salt\" air, the \"soothing melody\" of the waves, and the \"sweet scent of jasmine\" all help to paint a vivid picture in the reader's mind.\n",
      "* The character of Amir is well-developed. We get a sense of his creative and introspective personality, and his reflection on his journey from small-town India to the global stage is a great way to add depth to his character.\n",
      "* The contrast between the calm atmosphere of the villa and the bustling energy of the Marina is well-done. It's a great way to show Amir's growth and development as a character, and to highlight the different aspects of his personality.\n",
      "* The theme of finding clarity and purpose in a chaotic world is a universal one, and Amir's moment of peace in the silent night is a powerful symbol of that. It's a great way to leave the reader with a sense of hope and reflection.\n",
      "\n",
      "If I were to offer any suggestions for improvement, it would be to consider adding more conflict or tension to the story. While the story is very peaceful and serene, it's almost too easy and straightforward. Adding some kind of challenge or obstacle for Amir to overcome could make the story more engaging and memorable. Additionally, you might consider adding more sensory details to help the reader feel like they're really there with Amir. For example, you could describe the sounds of the city, the taste of the food they eat, or the feel of the sand between their toes.\n",
      "\n",
      "Overall, however, this is a lovely and evocative story that does a great job of capturing the beauty and wonder of Dubai.\n",
      "Here is a modified version of the story with Salman Khan added:\n",
      "\n",
      "Title: The Silent Night in Dubai\n",
      "\n",
      "Amir Khan, a renowned Bollywood star, stepped out of his luxurious villa in Dubai's Palm Jumeirah, the city's iconic man-made island. The night air was crisp, with a hint of salt from the Arabian Gulf. As he walked towards the infinity pool, the sound of the waves gently lapping against the shore created a soothing melody.\n",
      "\n",
      "Amir had been in Dubai for a week, filming a commercial for a luxury watch brand. Despite the chaos of the shoot, he had found solace in the city's calm atmosphere. As he gazed up at the star-studded sky, he felt a sense of peace wash over him.\n",
      "\n",
      "Just then, his phone buzzed with a text from his close friend, Salman Khan. \"Hey, what's up? I'm in Dubai too, filming a new movie. Meet me at the Armani Hotel for a nightcap?\" Amir smiled, feeling grateful for the opportunity to unwind with his friend.\n",
      "\n",
      "As he arrived at the Armani Hotel, he spotted Salman waiting for him at the bar. The two friends exchanged warm greetings and ordered a round of whiskey. As they sipped their drinks, they reminisced about their early days in the industry and shared stories about their latest projects.\n",
      "\n",
      "The night air was filled with the sweet scent of jasmine, and Amir felt as though he was floating on a cloud, surrounded by the beauty of Dubai. In this silent night, he discovered a sense of clarity and purpose, knowing that this moment of peace was what he needed to stay grounded amidst the chaos of his superstar life.\n",
      "\n",
      "Just as they were about to leave, Deepika Padukone, Amir's co-star from the watch commercial, walked into the bar. She was dressed to the nines in a stunning black gown, and Amir couldn't help but feel a flutter in his chest. Salman, noticing his friend's distraction, playfully teased Amir about his crush.\n",
      "\n",
      "As the three of them left the hotel and walked along the Marina, the bustling waterfront came alive with twinkling lights and the hum of life. Amidst the vibrant energy, Amir felt grateful for the unexpected encounter with Salman and Deepika, and the chance to connect with his friends on a deeper level.\n",
      "\n",
      "The night air was filled with the sweet scent of jasmine, and Amir felt as though he was floating on a cloud, surrounded by the beauty of Dubai. In this silent night, he discovered a sense of clarity and purpose, knowing that this moment of peace was what he needed to stay grounded amidst the chaos of his superstar life.\n",
      "\n",
      "I made the following changes to incorporate Salman Khan into the story:\n",
      "\n",
      "* Added a text message from Salman to Amir, inviting him to meet up for a nightcap\n",
      "* Had Amir and Salman meet up at the Armani Hotel and share a drink and some stories\n",
      "* Added Deepika Padukone to the story, having her join Amir and Salman at the bar\n",
      "* Incorporated some playful banter between Salman and Amir about Amir's crush on Deepika\n",
      "\n",
      "I hope this modified version meets your requirements! Let me know if you need any further changes.\n"
     ]
    }
   ],
   "source": [
    "from langchain_core.runnables.history import RunnableWithMessageHistory\n",
    "store = {}\n",
    "\n",
    "def get_session_history(session_id: str) -> BaseChatMessageHistory:\n",
    "    if session_id not in store:  \n",
    "        store[session_id] = InMemoryChatMessageHistory()\n",
    "    return store[session_id]\n",
    "config = {'configurable': {\"session_id\": \"abc2\"}}\n",
    "withHistory = RunnableWithMessageHistory(model, get_session_history)\n",
    "\n",
    "response = withHistory.invoke([HumanMessage(content=story)], config=config)\n",
    "\n",
    "print(response.content)\n",
    "\n",
    "response = withHistory.invoke(\n",
    "    [HumanMessage(content=\"modify the last story and add salman khan in it.\")], config=config\n",
    ")\n",
    "\n",
    "print(response.content)"
   ]
  },
  {
   "cell_type": "code",
   "execution_count": null,
   "metadata": {},
   "outputs": [],
   "source": []
  }
 ],
 "metadata": {
  "kernelspec": {
   "display_name": "Python 3",
   "language": "python",
   "name": "python3"
  },
  "language_info": {
   "codemirror_mode": {
    "name": "ipython",
    "version": 3
   },
   "file_extension": ".py",
   "mimetype": "text/x-python",
   "name": "python",
   "nbconvert_exporter": "python",
   "pygments_lexer": "ipython3",
   "version": "3.12.1"
  }
 },
 "nbformat": 4,
 "nbformat_minor": 2
}
